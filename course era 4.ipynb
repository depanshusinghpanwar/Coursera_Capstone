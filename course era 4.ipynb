{
 "cells": [
  {
   "cell_type": "markdown",
   "metadata": {},
   "source": [
    "# The battle of the neighborhoods Week 4\n",
    "\n",
    "## Title- Business recommender system\n",
    "\n",
    "\n",
    "Business Problem:\n",
    "Toronto is one of the largest cities of Canada and the provincial capital of Ontario. It is the financial capital of Canada. So a person would often llike to start a new business here. So the question arises, what kind of business should he start? Where should he start it? And what are his chances for success? These are the questions which are of utmost importance to a aspiring bussinessman/woman.\n",
    "\n",
    "So it is very tough for the aspiring businessman/businesswoman to get the answers to the above questions on his own and they cannot be left on luck as these factors directly influence the success of his/her business. So my analysis aims at using the Foursquare api to provide the concerned person with the list of most common to the least common businesses present in the area so that he/she could choose to set up the business which is not common in a particular neighbourhood and that could lead to the success of his/her business."
   ]
  },
  {
   "cell_type": "code",
   "execution_count": null,
   "metadata": {},
   "outputs": [],
   "source": []
  }
 ],
 "metadata": {
  "kernelspec": {
   "display_name": "Python 3",
   "language": "python",
   "name": "python3"
  },
  "language_info": {
   "codemirror_mode": {
    "name": "ipython",
    "version": 3
   },
   "file_extension": ".py",
   "mimetype": "text/x-python",
   "name": "python",
   "nbconvert_exporter": "python",
   "pygments_lexer": "ipython3",
   "version": "3.7.1"
  }
 },
 "nbformat": 4,
 "nbformat_minor": 2
}
